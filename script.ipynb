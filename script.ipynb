{
 "cells": [
  {
   "cell_type": "code",
   "execution_count": 1,
   "id": "07c42009",
   "metadata": {},
   "outputs": [],
   "source": [
    "import psycopg2\n",
    "from psycopg2 import Error\n",
    "from psycopg2.extensions import ISOLATION_LEVEL_AUTOCOMMIT"
   ]
  },
  {
   "cell_type": "code",
   "execution_count": 10,
   "id": "42062cfe",
   "metadata": {},
   "outputs": [],
   "source": [
    "#Авторизация пользователь\n",
    "connection = psycopg2.connect(user=\"admin\",password=\"1111\",host=\"localhost\",port=\"5434\",database=\"admin\")\n",
    "cursor = connection.cursor()\n",
    "cursor.execute(\"\"\"INSERT INTO shop_db.user (name , surname ,email, phone) VALUES\n",
    "               ('Vlad', 'Pehotin','pehotin@gmail.ru','89065810202');\"\"\")\n",
    "connection.commit()\n",
    "cursor.close()\n",
    "connection.close()"
   ]
  },
  {
   "cell_type": "code",
   "execution_count": 11,
   "id": "33ef7bdf",
   "metadata": {},
   "outputs": [],
   "source": [
    "#Добавление адреса\n",
    "connection = psycopg2.connect(user=\"admin\",password=\"1111\",host=\"localhost\",port=\"5434\",database=\"admin\")\n",
    "cursor = connection.cursor()\n",
    "cursor.execute(\"\"\"INSERT INTO shop_db.address_user (id_user, city , street ,house) VALUES\n",
    "               (21,'Pavlovsck', 'Chehova','20/3');\"\"\")\n",
    "connection.commit()\n",
    "cursor.close()\n",
    "connection.close()"
   ]
  },
  {
   "cell_type": "code",
   "execution_count": 12,
   "id": "80c20cde",
   "metadata": {},
   "outputs": [],
   "source": [
    "#Добавление карты\n",
    "connection = psycopg2.connect(user=\"admin\",password=\"1111\",host=\"localhost\",port=\"5434\",database=\"admin\")\n",
    "cursor = connection.cursor()\n",
    "cursor.execute(\"\"\"INSERT INTO shop_db.payment (id_user, number_card) VALUES\n",
    "(21, '5404 3648 8303 9944');\"\"\")\n",
    "connection.commit()\n",
    "cursor.close()\n",
    "connection.close()"
   ]
  },
  {
   "cell_type": "code",
   "execution_count": 13,
   "id": "93720d0c",
   "metadata": {},
   "outputs": [
    {
     "name": "stdout",
     "output_type": "stream",
     "text": [
      "(6, 'Patrol Boots', 'Womens shoes', 1600, 32, 6, 3)\n",
      "(10, 'Baby Monitor', 'Digital baby monitor', 3500, 40, 10, 5)\n",
      "(2, 'Cast-Iron Jacket', 'Long rip-stop nylon Fabric Parka', 25500, 8, 2, 1)\n",
      "(3, 'Football', 'Amateur soccer ball', 950, 138, 3, 2)\n",
      "(4, 'Flowers for Algernon', 'Printed book', 500, 180, 4, 2)\n",
      "(7, 'Table', 'Computer desk', 3500, 4, 7, 4)\n",
      "(5, 'Batteries', 'Alkaline batteries 2 pcs', 330, 78, 5, 3)\n",
      "(9, 'CLOSEUP everfresh', 'Gel toothpaste', 130, 394, 9, 5)\n",
      "(1, 'Chocolate', 'Classic milk chocolate', 55, 541, 1, 1)\n"
     ]
    }
   ],
   "source": [
    "#Просмотр список товаров\n",
    "connection = psycopg2.connect(user=\"admin\",password=\"1111\",host=\"localhost\",port=\"5434\",database=\"admin\")\n",
    "cursor = connection.cursor()\n",
    "cursor.execute(\"\"\"SELECT * FROM shop_db.product;\"\"\")\n",
    "for row in cursor:\n",
    "    print(row)\n",
    "connection.commit()\n",
    "cursor.close()\n",
    "connection.close()"
   ]
  },
  {
   "cell_type": "code",
   "execution_count": 14,
   "id": "04ca28d0",
   "metadata": {},
   "outputs": [],
   "source": [
    "#Добавление заказа\n",
    "connection = psycopg2.connect(user=\"admin\",password=\"1111\",host=\"localhost\",port=\"5434\",database=\"admin\")\n",
    "cursor = connection.cursor()\n",
    "cursor.execute(\"\"\"INSERT INTO shop_db.order (user_id, address_id, cart_id) VALUES\n",
    "(21,31,32)\"\"\")\n",
    "connection.commit()\n",
    "cursor.close()\n",
    "connection.close()"
   ]
  },
  {
   "cell_type": "code",
   "execution_count": 15,
   "id": "dd99ed60",
   "metadata": {},
   "outputs": [],
   "source": [
    "#Добавление товаров в заказ\n",
    "connection = psycopg2.connect(user=\"admin\",password=\"1111\",host=\"localhost\",port=\"5434\",database=\"admin\")\n",
    "cursor = connection.cursor()\n",
    "cursor.execute(\"\"\"INSERT INTO shop_db.product_in_order (order_id, product_id, count) VALUES\n",
    "(41,1,100),(41,7,1)\"\"\")\n",
    "connection.commit()\n",
    "cursor.close()\n",
    "connection.close()"
   ]
  },
  {
   "cell_type": "code",
   "execution_count": 16,
   "id": "33073a06",
   "metadata": {},
   "outputs": [],
   "source": [
    "#Доставка товара\n",
    "connection = psycopg2.connect(user=\"admin\",password=\"1111\",host=\"localhost\",port=\"5434\",database=\"admin\")\n",
    "cursor = connection.cursor()\n",
    "cursor.execute(\"\"\"UPDATE shop_db.product_in_order SET  status_product_id =3 WHERE id = 63\"\"\")\n",
    "connection.commit()\n",
    "cursor.close()\n",
    "connection.close()"
   ]
  },
  {
   "cell_type": "code",
   "execution_count": 17,
   "id": "8e0a4ea1",
   "metadata": {},
   "outputs": [],
   "source": [
    "#Доставка товара\n",
    "connection = psycopg2.connect(user=\"admin\",password=\"1111\",host=\"localhost\",port=\"5434\",database=\"admin\")\n",
    "cursor = connection.cursor()\n",
    "cursor.execute(\"\"\"UPDATE shop_db.product_in_order SET  status_product_id =3 WHERE id = 64\"\"\")\n",
    "connection.commit()\n",
    "cursor.close()\n",
    "connection.close()"
   ]
  },
  {
   "cell_type": "code",
   "execution_count": 18,
   "id": "aaaadf2b",
   "metadata": {},
   "outputs": [
    {
     "name": "stdout",
     "output_type": "stream",
     "text": [
      "(41, 1, 'Create order ', datetime.datetime(2023, 1, 15, 13, 15, 3, tzinfo=datetime.timezone.utc), None)\n",
      "(41, 2, 'Add product in order', datetime.datetime(2023, 1, 15, 13, 15, 48, tzinfo=datetime.timezone.utc), 63)\n",
      "(41, 2, 'Add product in order', datetime.datetime(2023, 1, 15, 13, 15, 48, tzinfo=datetime.timezone.utc), 64)\n",
      "(41, 2, 'The product is completed', datetime.datetime(2023, 1, 15, 13, 16, tzinfo=datetime.timezone.utc), 63)\n",
      "(41, 2, 'The product is completed', datetime.datetime(2023, 1, 15, 13, 16, 2, tzinfo=datetime.timezone.utc), 64)\n",
      "(41, 3, 'The order is completed', datetime.datetime(2023, 1, 15, 13, 16, 2, tzinfo=datetime.timezone.utc), None)\n"
     ]
    }
   ],
   "source": [
    "#Просмотр истории заказа\n",
    "connection = psycopg2.connect(user=\"admin\",password=\"1111\",host=\"localhost\",port=\"5434\",database=\"admin\")\n",
    "cursor = connection.cursor()\n",
    "cursor.execute(\"\"\"SELECT * FROM shop_db.history_order WHERE order_id = 41\"\"\")\n",
    "for row in cursor:\n",
    "    print(row)\n",
    "connection.commit()\n",
    "cursor.close()\n",
    "connection.close()"
   ]
  },
  {
   "cell_type": "code",
   "execution_count": 22,
   "id": "286d2f8d",
   "metadata": {},
   "outputs": [],
   "source": [
    "#Удаление пользователя\n",
    "connection = psycopg2.connect(user=\"admin\",password=\"1111\",host=\"localhost\",port=\"5434\",database=\"admin\")\n",
    "cursor = connection.cursor()\n",
    "cursor.execute(\"\"\"DELETE FROM shop_db.user WHERE id = 21\"\"\")\n",
    "connection.commit()\n",
    "cursor.close()\n",
    "connection.close()"
   ]
  },
  {
   "cell_type": "code",
   "execution_count": null,
   "id": "20e8225e",
   "metadata": {},
   "outputs": [],
   "source": []
  }
 ],
 "metadata": {
  "kernelspec": {
   "display_name": "Python 3 (ipykernel)",
   "language": "python",
   "name": "python3"
  },
  "language_info": {
   "codemirror_mode": {
    "name": "ipython",
    "version": 3
   },
   "file_extension": ".py",
   "mimetype": "text/x-python",
   "name": "python",
   "nbconvert_exporter": "python",
   "pygments_lexer": "ipython3",
   "version": "3.9.12"
  }
 },
 "nbformat": 4,
 "nbformat_minor": 5
}
